{
 "cells": [
  {
   "cell_type": "code",
   "execution_count": 7,
   "outputs": [],
   "source": [
    "import spotipy"
   ],
   "metadata": {
    "collapsed": false,
    "pycharm": {
     "name": "#%%\n"
    }
   }
  },
  {
   "cell_type": "code",
   "execution_count": 10,
   "outputs": [
    {
     "ename": "SyntaxError",
     "evalue": "invalid syntax. Perhaps you forgot a comma? (3600074833.py, line 1)",
     "output_type": "error",
     "traceback": [
      "\u001B[1;36m  Input \u001B[1;32mIn [10]\u001B[1;36m\u001B[0m\n\u001B[1;33m    SET SPOTIPY_CLIENT_ID = 'c75d2b41104f4233b08e95eacab96128'\u001B[0m\n\u001B[1;37m    ^\u001B[0m\n\u001B[1;31mSyntaxError\u001B[0m\u001B[1;31m:\u001B[0m invalid syntax. Perhaps you forgot a comma?\n"
     ]
    }
   ],
   "source": [],
   "metadata": {
    "collapsed": false,
    "pycharm": {
     "name": "#%%\n"
    }
   }
  },
  {
   "cell_type": "code",
   "execution_count": 1,
   "outputs": [
    {
     "ename": "SpotifyOauthError",
     "evalue": "No client_id. Pass it or set a SPOTIPY_CLIENT_ID environment variable.",
     "output_type": "error",
     "traceback": [
      "\u001B[1;31m---------------------------------------------------------------------------\u001B[0m",
      "\u001B[1;31mSpotifyOauthError\u001B[0m                         Traceback (most recent call last)",
      "Input \u001B[1;32mIn [1]\u001B[0m, in \u001B[0;36m<cell line: 6>\u001B[1;34m()\u001B[0m\n\u001B[0;32m      3\u001B[0m \u001B[38;5;28;01mimport\u001B[39;00m \u001B[38;5;21;01mjson\u001B[39;00m\n\u001B[0;32m      4\u001B[0m scope \u001B[38;5;241m=\u001B[39m \u001B[38;5;124m'\u001B[39m\u001B[38;5;124muser-library-read\u001B[39m\u001B[38;5;124m'\u001B[39m\n\u001B[1;32m----> 6\u001B[0m sp \u001B[38;5;241m=\u001B[39m spotipy\u001B[38;5;241m.\u001B[39mSpotify(auth_manager\u001B[38;5;241m=\u001B[39m\u001B[43mSpotifyOAuth\u001B[49m\u001B[43m(\u001B[49m\u001B[43mscope\u001B[49m\u001B[38;5;241;43m=\u001B[39;49m\u001B[43mscope\u001B[49m\u001B[43m)\u001B[49m)\n\u001B[0;32m      8\u001B[0m results \u001B[38;5;241m=\u001B[39m sp\u001B[38;5;241m.\u001B[39mcurrent_user_saved_tracks()[\u001B[38;5;124m\"\u001B[39m\u001B[38;5;124mitems\u001B[39m\u001B[38;5;124m\"\u001B[39m]\n\u001B[0;32m      9\u001B[0m \u001B[38;5;28mprint\u001B[39m(json\u001B[38;5;241m.\u001B[39mdumps(results, indent\u001B[38;5;241m=\u001B[39m\u001B[38;5;241m2\u001B[39m))\n",
      "File \u001B[1;32m~\\PycharmProjects\\API\\venv\\lib\\site-packages\\spotipy\\oauth2.py:332\u001B[0m, in \u001B[0;36mSpotifyOAuth.__init__\u001B[1;34m(self, client_id, client_secret, redirect_uri, state, scope, cache_path, username, proxies, show_dialog, requests_session, requests_timeout, open_browser, cache_handler)\u001B[0m\n\u001B[0;32m    303\u001B[0m \u001B[38;5;124;03m\"\"\"\u001B[39;00m\n\u001B[0;32m    304\u001B[0m \u001B[38;5;124;03mCreates a SpotifyOAuth object\u001B[39;00m\n\u001B[0;32m    305\u001B[0m \n\u001B[1;32m   (...)\u001B[0m\n\u001B[0;32m    327\u001B[0m \u001B[38;5;124;03m                      (takes precedence over `cache_path` and `username`)\u001B[39;00m\n\u001B[0;32m    328\u001B[0m \u001B[38;5;124;03m\"\"\"\u001B[39;00m\n\u001B[0;32m    330\u001B[0m \u001B[38;5;28msuper\u001B[39m(SpotifyOAuth, \u001B[38;5;28mself\u001B[39m)\u001B[38;5;241m.\u001B[39m\u001B[38;5;21m__init__\u001B[39m(requests_session)\n\u001B[1;32m--> 332\u001B[0m \u001B[38;5;28mself\u001B[39m\u001B[38;5;241m.\u001B[39mclient_id \u001B[38;5;241m=\u001B[39m client_id\n\u001B[0;32m    333\u001B[0m \u001B[38;5;28mself\u001B[39m\u001B[38;5;241m.\u001B[39mclient_secret \u001B[38;5;241m=\u001B[39m client_secret\n\u001B[0;32m    334\u001B[0m \u001B[38;5;28mself\u001B[39m\u001B[38;5;241m.\u001B[39mredirect_uri \u001B[38;5;241m=\u001B[39m redirect_uri\n",
      "File \u001B[1;32m~\\PycharmProjects\\API\\venv\\lib\\site-packages\\spotipy\\oauth2.py:94\u001B[0m, in \u001B[0;36mSpotifyAuthBase.client_id\u001B[1;34m(self, val)\u001B[0m\n\u001B[0;32m     92\u001B[0m \u001B[38;5;129m@client_id\u001B[39m\u001B[38;5;241m.\u001B[39msetter\n\u001B[0;32m     93\u001B[0m \u001B[38;5;28;01mdef\u001B[39;00m \u001B[38;5;21mclient_id\u001B[39m(\u001B[38;5;28mself\u001B[39m, val):\n\u001B[1;32m---> 94\u001B[0m     \u001B[38;5;28mself\u001B[39m\u001B[38;5;241m.\u001B[39m_client_id \u001B[38;5;241m=\u001B[39m \u001B[43m_ensure_value\u001B[49m\u001B[43m(\u001B[49m\u001B[43mval\u001B[49m\u001B[43m,\u001B[49m\u001B[43m \u001B[49m\u001B[38;5;124;43m\"\u001B[39;49m\u001B[38;5;124;43mclient_id\u001B[39;49m\u001B[38;5;124;43m\"\u001B[39;49m\u001B[43m)\u001B[49m\n",
      "File \u001B[1;32m~\\PycharmProjects\\API\\venv\\lib\\site-packages\\spotipy\\oauth2.py:70\u001B[0m, in \u001B[0;36m_ensure_value\u001B[1;34m(value, env_key)\u001B[0m\n\u001B[0;32m     65\u001B[0m \u001B[38;5;28;01mif\u001B[39;00m _val \u001B[38;5;129;01mis\u001B[39;00m \u001B[38;5;28;01mNone\u001B[39;00m:\n\u001B[0;32m     66\u001B[0m     msg \u001B[38;5;241m=\u001B[39m \u001B[38;5;124m\"\u001B[39m\u001B[38;5;124mNo \u001B[39m\u001B[38;5;132;01m%s\u001B[39;00m\u001B[38;5;124m. Pass it or set a \u001B[39m\u001B[38;5;132;01m%s\u001B[39;00m\u001B[38;5;124m environment variable.\u001B[39m\u001B[38;5;124m\"\u001B[39m \u001B[38;5;241m%\u001B[39m (\n\u001B[0;32m     67\u001B[0m         env_key,\n\u001B[0;32m     68\u001B[0m         env_val,\n\u001B[0;32m     69\u001B[0m     )\n\u001B[1;32m---> 70\u001B[0m     \u001B[38;5;28;01mraise\u001B[39;00m SpotifyOauthError(msg)\n\u001B[0;32m     71\u001B[0m \u001B[38;5;28;01mreturn\u001B[39;00m _val\n",
      "\u001B[1;31mSpotifyOauthError\u001B[0m: No client_id. Pass it or set a SPOTIPY_CLIENT_ID environment variable."
     ]
    }
   ],
   "source": [
    "import spotipy\n",
    "from spotipy.oauth2 import SpotifyOAuth\n",
    "import json\n",
    "scope = 'user-library-read'\n",
    "\n",
    "sp = spotipy.Spotify(auth_manager=SpotifyOAuth(scope=scope))\n",
    "\n",
    "results = sp.current_user_saved_tracks()[\"items\"]\n",
    "print(json.dumps(results, indent=2))"
   ],
   "metadata": {
    "collapsed": false,
    "pycharm": {
     "name": "#%%\n"
    }
   }
  },
  {
   "cell_type": "markdown",
   "source": [],
   "metadata": {
    "collapsed": false
   }
  },
  {
   "cell_type": "code",
   "execution_count": null,
   "outputs": [],
   "source": [],
   "metadata": {
    "collapsed": false,
    "pycharm": {
     "name": "#%%\n"
    }
   }
  }
 ],
 "metadata": {
  "kernelspec": {
   "display_name": "Python 3",
   "language": "python",
   "name": "python3"
  },
  "language_info": {
   "codemirror_mode": {
    "name": "ipython",
    "version": 2
   },
   "file_extension": ".py",
   "mimetype": "text/x-python",
   "name": "python",
   "nbconvert_exporter": "python",
   "pygments_lexer": "ipython2",
   "version": "2.7.6"
  }
 },
 "nbformat": 4,
 "nbformat_minor": 0
}